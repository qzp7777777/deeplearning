{
 "cells": [
  {
   "cell_type": "code",
   "execution_count": 2,
   "metadata": {},
   "outputs": [
    {
     "data": {
      "application/javascript": [
       "\n",
       "require(['notebook/js/codecell'], function(codecell) {\n",
       "  codecell.CodeCell.options_default.highlight_modes[\n",
       "      'magic_text/x-csrc'] = {'reg':[/^%%microblaze/]};\n",
       "  Jupyter.notebook.events.one('kernel_ready.Kernel', function(){\n",
       "      Jupyter.notebook.get_cells().map(function(cell){\n",
       "          if (cell.cell_type == 'code'){ cell.auto_highlight(); } }) ;\n",
       "  });\n",
       "});\n"
      ]
     },
     "metadata": {},
     "output_type": "display_data"
    }
   ],
   "source": [
    "from pynq import PL\n",
    "from pynq import MMIO\n",
    "from pynq import Overlay\n",
    "from pynq import allocate,buffer\n",
    "import numpy as np\n",
    "import matplotlib.pyplot as plt\n",
    "from pynq import Overlay\n",
    "#base = Overlay(\"base.bit\")\n",
    "cnn = Overlay(\"/home/xilinx/jupyter_notebooks/test/cnn.bit\")\n"
   ]
  },
  {
   "cell_type": "code",
   "execution_count": 6,
   "metadata": {},
   "outputs": [
    {
     "name": "stdout",
     "output_type": "stream",
     "text": [
      "7\n",
      "7\n"
     ]
    }
   ],
   "source": [
    "import time\n",
    "cnn = Overlay(\"/home/xilinx/jupyter_notebooks/test/cnn.bit\")\n",
    "dma = cnn.axi_dma_0\n",
    "num = 0\n",
    "#加载网络参数，及测试图片\n",
    "test_images = np.load(\"test_images.npy\")\n",
    "test_images = test_images.reshape(-1,28,28)\n",
    "test_labels = np.load(\"test_labels.npy\")\n",
    "weights = np.load(\"weights.npz\")\n",
    "w = []\n",
    "for v in weights:\n",
    "    w.append(weights[v].reshape(-1))\n",
    "wl = np.concatenate(w,0)\n",
    "iuputbuff = allocate(shape=(400,), dtype=np.int32)\n",
    "out_buffer = allocate(shape=(10,), dtype=np.int32)\n",
    "iuputbuff[0] = 101\n",
    "\n",
    "iuputbuff[1:] =  wl[:399]\n",
    "dma.sendchannel.transfer(iuputbuff)\n",
    "dma.sendchannel.wait()\n",
    "end = 399\n",
    "while(end + 400 < wl.size):\n",
    "    iuputbuff[:] =  wl[end:end+400]\n",
    "    dma.sendchannel.transfer(iuputbuff)\n",
    "    dma.sendchannel.wait()\n",
    "    end = end + 400\n",
    "iuputbuff = allocate(shape=(wl.size-end,), dtype=np.int32)\n",
    "iuputbuff[:] = wl[end:]\n",
    "dma.sendchannel.transfer(iuputbuff)\n",
    "dma.sendchannel.wait()\n",
    "iuputbuff = allocate(shape=(test_images[0].size + 1,), dtype=np.int32)\n",
    "out_buffer = allocate(shape=(10,), dtype=np.int32)\n",
    "testImage = test_images[num].reshape(-1)\n",
    "iuputbuff[0] = 301\n",
    "iuputbuff[1:] =  testImage[:]\n",
    "dma.sendchannel.transfer(iuputbuff)\n",
    "dma.sendchannel.wait()\n",
    "dma.recvchannel.transfer(out_buffer)\n",
    "dma.recvchannel.wait()\n",
    "print(np.argmax(out_buffer))\n",
    "print(test_labels[0])\n",
    "plt.subplot(111)\n",
    "plt.imshow(test_images[num],cmap = 'gray')"
   ]
  },
  {
   "cell_type": "code",
   "execution_count": null,
   "metadata": {},
   "outputs": [],
   "source": []
  },
  {
   "cell_type": "code",
   "execution_count": 17,
   "metadata": {},
   "outputs": [
    {
     "data": {
      "text/plain": [
       "<matplotlib.image.AxesImage at 0xaa588e10>"
      ]
     },
     "execution_count": 17,
     "metadata": {},
     "output_type": "execute_result"
    },
    {
     "data": {
      "image/png": "[encoded data removed]",
      "text/plain": [
       "<matplotlib.figure.Figure at 0xaae6be50>"
      ]
     },
     "metadata": {},
     "output_type": "display_data"
    }
   ],
   "source": [
    "plt.subplot(111)\n",
    "plt.imshow(test_images[0],cmap = 'gray')"
   ]
  },
  {
   "cell_type": "code",
   "execution_count": 21,
   "metadata": {},
   "outputs": [
    {
     "name": "stdout",
     "output_type": "stream",
     "text": [
      "(120, 84)\n",
      "[ 0.15728049 -0.03336901  0.11023627 ..., -0.05930579 -0.00142765\n",
      " -0.02509099]\n"
     ]
    }
   ],
   "source": [
    "weights = np.load(\"weights.npz\")\n",
    "print(weights[\"fn2\"].shape)\n",
    "print(weights[\"cov2\"].reshape(-1))"
   ]
  },
  {
   "cell_type": "code",
   "execution_count": 39,
   "metadata": {},
   "outputs": [
    {
     "data": {
      "image/png": "[encoded data removed]",
      "text/plain": [
       "<matplotlib.figure.Figure at 0xaa5951f0>"
      ]
     },
     "metadata": {},
     "output_type": "display_data"
    }
   ],
   "source": [
    "#help(signal.convolve2d)\n",
    " from scipy import signal\n",
    "for i in range(6):\n",
    "    covresult = signal.convolve2d(test_images[0]/255.0,cov28_28_5_5_6[:,:,0,i],mode=\"valid\")\n",
    "    covresult = covresult*255\n",
    "    covresult = covresult.astype(int)\n",
    "    plt.subplot(160 + i+1)\n",
    "    plt.imshow(covresult,cmap = 'gray')"
   ]
  },
  {
   "cell_type": "code",
   "execution_count": 73,
   "metadata": {},
   "outputs": [
    {
     "data": {
      "text/plain": [
       "['T',\n",
       " '__abs__',\n",
       " '__add__',\n",
       " '__and__',\n",
       " '__array__',\n",
       " '__array_finalize__',\n",
       " '__array_interface__',\n",
       " '__array_prepare__',\n",
       " '__array_priority__',\n",
       " '__array_struct__',\n",
       " '__array_ufunc__',\n",
       " '__array_wrap__',\n",
       " '__bool__',\n",
       " '__class__',\n",
       " '__complex__',\n",
       " '__contains__',\n",
       " '__copy__',\n",
       " '__deepcopy__',\n",
       " '__del__',\n",
       " '__delattr__',\n",
       " '__delitem__',\n",
       " '__dict__',\n",
       " '__dir__',\n",
       " '__divmod__',\n",
       " '__doc__',\n",
       " '__enter__',\n",
       " '__eq__',\n",
       " '__exit__',\n",
       " '__float__',\n",
       " '__floordiv__',\n",
       " '__format__',\n",
       " '__ge__',\n",
       " '__getattribute__',\n",
       " '__getitem__',\n",
       " '__gt__',\n",
       " '__hash__',\n",
       " '__iadd__',\n",
       " '__iand__',\n",
       " '__ifloordiv__',\n",
       " '__ilshift__',\n",
       " '__imatmul__',\n",
       " '__imod__',\n",
       " '__imul__',\n",
       " '__index__',\n",
       " '__init__',\n",
       " '__init_subclass__',\n",
       " '__int__',\n",
       " '__invert__',\n",
       " '__ior__',\n",
       " '__ipow__',\n",
       " '__irshift__',\n",
       " '__isub__',\n",
       " '__iter__',\n",
       " '__itruediv__',\n",
       " '__ixor__',\n",
       " '__le__',\n",
       " '__len__',\n",
       " '__lshift__',\n",
       " '__lt__',\n",
       " '__matmul__',\n",
       " '__mod__',\n",
       " '__module__',\n",
       " '__mul__',\n",
       " '__ne__',\n",
       " '__neg__',\n",
       " '__new__',\n",
       " '__or__',\n",
       " '__pos__',\n",
       " '__pow__',\n",
       " '__radd__',\n",
       " '__rand__',\n",
       " '__rdivmod__',\n",
       " '__reduce__',\n",
       " '__reduce_ex__',\n",
       " '__repr__',\n",
       " '__rfloordiv__',\n",
       " '__rlshift__',\n",
       " '__rmatmul__',\n",
       " '__rmod__',\n",
       " '__rmul__',\n",
       " '__ror__',\n",
       " '__rpow__',\n",
       " '__rrshift__',\n",
       " '__rshift__',\n",
       " '__rsub__',\n",
       " '__rtruediv__',\n",
       " '__rxor__',\n",
       " '__setattr__',\n",
       " '__setitem__',\n",
       " '__setstate__',\n",
       " '__sizeof__',\n",
       " '__str__',\n",
       " '__sub__',\n",
       " '__subclasshook__',\n",
       " '__truediv__',\n",
       " '__xor__',\n",
       " 'all',\n",
       " 'any',\n",
       " 'argmax',\n",
       " 'argmin',\n",
       " 'argpartition',\n",
       " 'argsort',\n",
       " 'astype',\n",
       " 'base',\n",
       " 'bo',\n",
       " 'byteswap',\n",
       " 'cacheable',\n",
       " 'choose',\n",
       " 'clip',\n",
       " 'close',\n",
       " 'coherent',\n",
       " 'compress',\n",
       " 'conj',\n",
       " 'conjugate',\n",
       " 'copy',\n",
       " 'ctypes',\n",
       " 'cumprod',\n",
       " 'cumsum',\n",
       " 'data',\n",
       " 'device',\n",
       " 'device_address',\n",
       " 'diagonal',\n",
       " 'dot',\n",
       " 'dtype',\n",
       " 'dump',\n",
       " 'dumps',\n",
       " 'fill',\n",
       " 'flags',\n",
       " 'flat',\n",
       " 'flatten',\n",
       " 'flush',\n",
       " 'freebuffer',\n",
       " 'getfield',\n",
       " 'imag',\n",
       " 'invalidate',\n",
       " 'item',\n",
       " 'itemset',\n",
       " 'itemsize',\n",
       " 'max',\n",
       " 'mean',\n",
       " 'min',\n",
       " 'nbytes',\n",
       " 'ndim',\n",
       " 'newbyteorder',\n",
       " 'nonzero',\n",
       " 'offset',\n",
       " 'partition',\n",
       " 'physical_address',\n",
       " 'pointer',\n",
       " 'prod',\n",
       " 'ptp',\n",
       " 'put',\n",
       " 'ravel',\n",
       " 'real',\n",
       " 'repeat',\n",
       " 'reshape',\n",
       " 'resize',\n",
       " 'return_to',\n",
       " 'round',\n",
       " 'searchsorted',\n",
       " 'setfield',\n",
       " 'setflags',\n",
       " 'shape',\n",
       " 'size',\n",
       " 'sort',\n",
       " 'squeeze',\n",
       " 'std',\n",
       " 'strides',\n",
       " 'sum',\n",
       " 'swapaxes',\n",
       " 'take',\n",
       " 'tobytes',\n",
       " 'tofile',\n",
       " 'tolist',\n",
       " 'tostring',\n",
       " 'trace',\n",
       " 'transpose',\n",
       " 'var',\n",
       " 'view']"
      ]
     },
     "execution_count": 73,
     "metadata": {},
     "output_type": "execute_result"
    }
   ],
   "source": [
    "from pynq import buffer\n",
    "dir(iuputbuff)"
   ]
  },
  {
   "cell_type": "code",
   "execution_count": 108,
   "metadata": {},
   "outputs": [
    {
     "name": "stdout",
     "output_type": "stream",
     "text": [
      "Help on method transfer in module pynq.lib.dma:\n",
      "\n",
      "transfer(array) method of pynq.lib.dma._DMAChannel instance\n",
      "    Transfer memory with the DMA\n",
      "    \n",
      "    Transfer must only be called when the channel is idle.\n",
      "    \n",
      "    Parameters\n",
      "    ----------\n",
      "    array : ContiguousArray\n",
      "        An xlnk allocated array to be transferred\n",
      "\n"
     ]
    }
   ],
   "source": [
    "help(dma.sendchannel.transfer)"
   ]
  },
  {
   "cell_type": "code",
   "execution_count": 26,
   "metadata": {},
   "outputs": [],
   "source": [
    "in_buffer?"
   ]
  },
  {
   "cell_type": "code",
   "execution_count": 10,
   "metadata": {},
   "outputs": [
    {
     "data": {
      "text/plain": [
       "PynqBuffer([[[      0,       0,       0, ...,       0,       0,       0],\n",
       "             [      0,       0,       0, ...,       0,       0,       0],\n",
       "             [      0,       0,       0, ...,       0,       0,       0],\n",
       "             ..., \n",
       "             [      0,       0,       0, ...,       0,       0,       0],\n",
       "             [      0,       0,       0, ...,       0,       0,       0],\n",
       "             [      0,       0,       0, ...,       0,       0,       0]],\n",
       "\n",
       "            [[      0,       0,       0, ...,       0,       0,       0],\n",
       "             [      0,       0,       0, ...,       0,       0,       0],\n",
       "             [      0,       0,       0, ...,       0,       0,       0],\n",
       "             ..., \n",
       "             [      0,       0,       0, ...,       0,       0,       0],\n",
       "             [      0,       0,       0, ...,       0,       0,       0],\n",
       "             [      0,       0,       0, ...,       0,       0,       0]],\n",
       "\n",
       "            [[      0,       0,       0, ...,   -5122,  -74778,  -41865],\n",
       "             [  10076,  110146,   48064, ...,  -94367,  -90290,   24001],\n",
       "             [  59625,  108897,   83041, ...,  -47412, -100166,   16545],\n",
       "             ..., \n",
       "             [  65234,  168582,  118053, ...,  -99297,  -79065,  -10436],\n",
       "             [  63837,  167726,  119078, ...,  -70602,  -37604,   52426],\n",
       "             [  22514,   29624,   39234, ...,       0,       0,       0]],\n",
       "\n",
       "            ..., \n",
       "            [[      0,       0,       0, ...,       0,       0,       0],\n",
       "             [      0,       0,       0, ...,    1147,   -7750,       0],\n",
       "             [   7271,   26534,  -14009, ...,  -25170, -202250, -178019],\n",
       "             ..., \n",
       "             [  41564,  140485,   52279, ...,  -56620,  -52503,  -42041],\n",
       "             [ -15836,     806,  -14870, ...,       0,       0,       0],\n",
       "             [      0,       0,       0, ...,       0,       0,       0]],\n",
       "\n",
       "            [[      0,       0,       0, ...,       0,       0,       0],\n",
       "             [      0,       0,       0, ...,   -3645,  -69121,  -21336],\n",
       "             [   8808,  132857,   37516, ...,  -69931, -195820, -187110],\n",
       "             ..., \n",
       "             [  61186,  115988,   73354, ...,    1944,  -10751,    3390],\n",
       "             [      0,       0,       0, ...,       0,       0,       0],\n",
       "             [      0,       0,       0, ...,       0,       0,       0]],\n",
       "\n",
       "            [[      0,       0,       0, ...,       0,       0,       0],\n",
       "             [      0,       0,       0, ...,  -14136, -135813, -102547],\n",
       "             [   9467,  181766,   72554, ...,  -82209, -183032, -180938],\n",
       "             ..., \n",
       "             [      0,       0,       0, ...,       0,       0,       0],\n",
       "             [      0,       0,       0, ...,       0,       0,       0],\n",
       "             [      0,       0,       0, ...,       0,       0,       0]]])"
      ]
     },
     "execution_count": 10,
     "metadata": {},
     "output_type": "execute_result"
    }
   ],
   "source": [
    "out_buffer[:-1].reshape(12,12,-1)"
   ]
  },
  {
   "cell_type": "code",
   "execution_count": 8,
   "metadata": {},
   "outputs": [
    {
     "data": {
      "text/plain": [
       "3456"
      ]
     },
     "execution_count": 8,
     "metadata": {},
     "output_type": "execute_result"
    }
   ],
   "source": [
    "24*24*6"
   ]
  },
  {
   "cell_type": "code",
   "execution_count": 4,
   "metadata": {},
   "outputs": [
    {
     "data": {
      "text/plain": [
       "array([1])"
      ]
     },
     "execution_count": 4,
     "metadata": {},
     "output_type": "execute_result"
    }
   ],
   "source": [
    "tt = np.array([1,2])\n",
    "tt[0:1]"
   ]
  },
  {
   "cell_type": "code",
   "execution_count": null,
   "metadata": {},
   "outputs": [],
   "source": []
  }
 ],
 "metadata": {
  "kernelspec": {
   "display_name": "Python 3",
   "language": "python",
   "name": "python3"
  },
  "language_info": {
   "codemirror_mode": {
    "name": "ipython",
    "version": 3
   },
   "file_extension": ".py",
   "mimetype": "text/x-python",
   "name": "python",
   "nbconvert_exporter": "python",
   "pygments_lexer": "ipython3",
   "version": "3.6.6"
  }
 },
 "nbformat": 4,
 "nbformat_minor": 4
}
