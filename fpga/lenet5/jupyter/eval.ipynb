{
 "cells": [
  {
   "cell_type": "code",
   "execution_count": 12,
   "metadata": {},
   "outputs": [
    {
     "name": "stdout",
     "output_type": "stream",
     "text": [
      "10000/10000 [==============================] - 1s 108us/sample - loss: 0.0335 - acc: 0.9908\n",
      "1.0955400466918945\n"
     ]
    }
   ],
   "source": [
    "import tensorflow as tf\n",
    "from tensorflow.keras.optimizers import SGD\n",
    "\n",
    "# 使用keras内置的mnist数据集\n",
    "mnist = tf.keras.datasets.mnist\n",
    "(training_images, training_labels), (test_images, test_labels) = mnist.load_data()\n",
    "# 处理一下数据\n",
    "training_images = training_images.reshape(-1, 28, 28, 1)\n",
    "test_images = test_images.reshape(-1, 28, 28, 1)\n",
    "training_images, test_images = training_images / 255.0, test_images / 255.0\n",
    "new_model = tf.keras.models.load_model('./weights/my_model.h5')\n",
    "start = time.time()\n",
    "new_model.evaluate(test_images,  test_labels)\n",
    "print(time.time()-start)\n",
    "#converter = tf.lite.TFLiteConverter.from_keras_model(new_model)\n",
    "#tflite_model = converter.convert()\n",
    "#open(\"weights.tflite\", \"wb\").write(tflite_model)\n",
    "\n"
   ]
  },
  {
   "cell_type": "code",
   "execution_count": 9,
   "metadata": {},
   "outputs": [
    {
     "name": "stdout",
     "output_type": "stream",
     "text": [
      "10000/10000 [==============================] - 1s 100us/sample - loss: 0.1611 - acc: 0.9592\n",
      "60000/60000 [==============================] - 6s 96us/sample - loss: 0.1165 - acc: 0.9665\n"
     ]
    },
    {
     "data": {
      "text/plain": [
       "[0.11654235598130229, 0.96646667]"
      ]
     },
     "execution_count": 9,
     "metadata": {},
     "output_type": "execute_result"
    }
   ],
   "source": [
    "new_model.evaluate(test_images,  test_labels)\n",
    "new_model.evaluate(training_images,  training_labels)"
   ]
  },
  {
   "cell_type": "code",
   "execution_count": 2,
   "metadata": {},
   "outputs": [
    {
     "name": "stdout",
     "output_type": "stream",
     "text": [
      "[]\n"
     ]
    }
   ],
   "source": [
    "import tensorflow as tf\n",
    "version = tf.__version__\n",
    "print(tf.config.list_physical_devices('GPU'))"
   ]
  },
  {
   "cell_type": "code",
   "execution_count": null,
   "metadata": {},
   "outputs": [],
   "source": []
  },
  {
   "cell_type": "code",
   "execution_count": 22,
   "metadata": {},
   "outputs": [],
   "source": [
    "test = np.load(\"cov28_28_5_5_6.npy\")"
   ]
  },
  {
   "cell_type": "code",
   "execution_count": 25,
   "metadata": {},
   "outputs": [],
   "source": [
    "np.save(\"test_images.npy\",test_images)\n",
    "np.save(\"test_labels.npy\",test_labels)"
   ]
  },
  {
   "cell_type": "code",
   "execution_count": 2,
   "metadata": {},
   "outputs": [],
   "source": [
    "import numpy as np\n",
    "weights = new_model.weights"
   ]
  },
  {
   "cell_type": "code",
   "execution_count": 5,
   "metadata": {},
   "outputs": [
    {
     "data": {
      "text/plain": [
       "(5, 5, 1, 6)"
      ]
     },
     "execution_count": 5,
     "metadata": {},
     "output_type": "execute_result"
    }
   ],
   "source": [
    "cov28_28_5_5_6 = weights[0].numpy()\n",
    "cov28_28_5_5_6.shape"
   ]
  },
  {
   "cell_type": "code",
   "execution_count": 1,
   "metadata": {},
   "outputs": [
    {
     "ename": "NameError",
     "evalue": "name 'new_model' is not defined",
     "output_type": "error",
     "traceback": [
      "\u001b[1;31m---------------------------------------------------------------------------\u001b[0m",
      "\u001b[1;31mNameError\u001b[0m                                 Traceback (most recent call last)",
      "\u001b[1;32m<ipython-input-1-cbd6b9722cae>\u001b[0m in \u001b[0;36m<module>\u001b[1;34m\u001b[0m\n\u001b[0;32m      1\u001b[0m \u001b[1;31m#检测代码原型\u001b[0m\u001b[1;33m\u001b[0m\u001b[1;33m\u001b[0m\u001b[0m\n\u001b[0;32m      2\u001b[0m \u001b[1;32mimport\u001b[0m \u001b[0mnumpy\u001b[0m \u001b[1;32mas\u001b[0m \u001b[0mnp\u001b[0m\u001b[1;33m\u001b[0m\u001b[0m\n\u001b[1;32m----> 3\u001b[1;33m \u001b[0mweights\u001b[0m \u001b[1;33m=\u001b[0m \u001b[0mnew_model\u001b[0m\u001b[1;33m.\u001b[0m\u001b[0mweights\u001b[0m\u001b[1;33m\u001b[0m\u001b[0m\n\u001b[0m\u001b[0;32m      4\u001b[0m \u001b[1;31m#图片序号\u001b[0m\u001b[1;33m\u001b[0m\u001b[1;33m\u001b[0m\u001b[0m\n\u001b[0;32m      5\u001b[0m \u001b[0mnum\u001b[0m \u001b[1;33m=\u001b[0m\u001b[1;36m0\u001b[0m\u001b[1;33m\u001b[0m\u001b[0m\n",
      "\u001b[1;31mNameError\u001b[0m: name 'new_model' is not defined"
     ]
    }
   ],
   "source": [
    "#检测代码原型\n",
    "import numpy as np\n",
    "weights = new_model.weights\n",
    "#图片序号\n",
    "num =0\n",
    "#图片标签\n",
    "print(test_labels[num])\n",
    "input = tf.convert_to_tensor(test_images[num].reshape(-1,28,28,1),dtype=\"float32\")\n",
    "input = input/255\n",
    "cov28_28_5_5_6 = tf.convert_to_tensor(weights[0].numpy())\n",
    "cnn1 = tf.nn.conv2d(input,cov28_28_5_5_6,strides = [1,1,1,1], padding = 'VALID')  + weights[1]\n",
    "signCnn1 = tf.tanh(cnn1)\n",
    "poolCnn1 = tf.nn.max_pool(signCnn1,[1,2,2,1],[1,2,2,1],padding='VALID')\n",
    "print(poolCnn1.shape)\n",
    "cov12_12_5_5_6 = tf.convert_to_tensor(weights[2].numpy())\n",
    "print(cov12_12_5_5_6.shape)\n",
    "cnn2 = tf.nn.conv2d(poolCnn1,cov12_12_5_5_6,strides = [1,1,1,1], padding = 'VALID')  + weights[3]\n",
    "signCnn2 = tf.tanh(cnn2)\n",
    "poolCnn2 = tf.nn.max_pool(signCnn2,[1,2,2,1],[1,2,2,1],padding='VALID')\n",
    "poolCnn2 = tf.reshape(poolCnn2,shape=[1,-1])\n",
    "fn1 = tf.tanh(tf.matmul(poolCnn2, tf.convert_to_tensor(weights[4]))+weights[5])\n",
    "\n",
    "print(fn1.shape)\n",
    "fn2 = tf.tanh(tf.matmul(fn1, tf.convert_to_tensor(weights[6]))+weights[7])\n",
    "print(fn2.shape)\n",
    "print((tf.matmul(fn2, tf.convert_to_tensor(weights[8]))+weights[9]) * 255 * 255)\n",
    "result = tf.nn.softmax(tf.matmul(fn2, tf.convert_to_tensor(weights[8]))+weights[9])\n",
    "print(result.shape)\n",
    "print(result)\n",
    "print(tf.argmax(result,1))"
   ]
  },
  {
   "cell_type": "code",
   "execution_count": 9,
   "metadata": {},
   "outputs": [
    {
     "name": "stdout",
     "output_type": "stream",
     "text": [
      "(1, 8, 8, 16)\n",
      "tf.Tensor(\n",
      "[[-255 -255  255 -255  255 -255  255 -255 -255    3  255 -125  231 -255\n",
      "   190 -123 -255 -255  255  255 -255 -255   78  255  255 -255  255 -170\n",
      "   255  255  255 -255 -255  255 -255  255 -255  255 -116  201  255 -255\n",
      "     7 -255  255  255 -166  -62  255  255 -255 -255   21   -4 -255 -120\n",
      "  -255   95 -255 -255 -104  255 -255 -255 -255 -255  -27  255 -255   94\n",
      "  -117 -255  255 -255 -255  255 -255 -255 -255 -255 -255 -172  -36  -64\n",
      "  -255  255  255  167  255 -255  255  255  254 -255  255  195 -255 -255\n",
      "    30   63  200  255  109   97  255 -156  255 -255  255  255  104 -255\n",
      "  -255   30 -255 -255  201  255 -255 -240  189 -255 -243 -247   96  255\n",
      "  -255  -62  255  255   71  255 -255 -205 -105 -255  179   39   90  255\n",
      "  -255 -255 -137 -255  255 -125  255  255 -255   15 -223 -255  255  255\n",
      "   151  255  -70 -255  255 -255 -255 -255 -255  236 -212 -255 -223 -187\n",
      "   139  255 -240 -255 -255 -255 -255 -148 -255  -60 -255 -109 -255  255\n",
      "  -255  -74  255 -170 -234 -149 -255   19 -255  -42  255  255 -255 -255\n",
      "   255  196 -255  152  255  255 -255  193 -255  -22  198   32  255  255\n",
      "  -255 -255  255  255 -255  255   92  255 -255 -255 -255 -255  255  168\n",
      "  -255  255 -255 -255 -255  -96 -124  -30 -255  255 -255   83 -255 -255\n",
      "   107  -21 -255 -255 -255  255 -255  255  -21 -107  255   80   76 -255\n",
      "  -255  255 -255 -255]], shape=(1, 256), dtype=int32)\n",
      "tf.Tensor(\n",
      "[[ 255 -255  -22  255   22  255 -255 -255 -255 -255 -255  -91  255 -255\n",
      "  -255  -22   79  -52 -255 -255 -228  255 -255  156 -255   64 -255 -255\n",
      "  -255  255  255 -242  255 -255  255 -255  255  255  255  255  255  150\n",
      "   138  188  255  255  119  -12   50   81  188 -113   99  -72 -255  139\n",
      "  -255  -61 -255  255  255  255  255 -195   83  255  157 -255 -101 -255\n",
      "   255  255  255  255  204  255  255 -255  255 -255  145 -255  255 -255\n",
      "  -180 -255  255  255 -209 -255  243   88 -255  255  167    0  255  255\n",
      "   255 -255  255  255  112  255  -58  199  255 -255   18 -255  -16  -55\n",
      "   171  255  255    2  255  -13  255 -255]], shape=(1, 120), dtype=int32)\n",
      "(1, 120)\n",
      "tf.Tensor(\n",
      "[[-400796 -239487    1444 -147045  184297  -66331 -426959 -260161    8646\n",
      "  1418047]], shape=(1, 10), dtype=int32)\n",
      "9 9\n",
      "0.001\r"
     ]
    }
   ],
   "source": [
    "#检测原型，浮点数转整数\n",
    "import numpy as np\n",
    "weights = new_model.weights\n",
    "def simpletanh(data):\n",
    "#    r = data/255/255\n",
    "    r = data/256\n",
    "    r = tf.maximum(r,-255)\n",
    "    r = tf.minimum(r,255)\n",
    " #   r = tf.tanh(r) * 255\n",
    "    r = tf.cast(r,tf.int32)\n",
    "    return r\n",
    "#图片序号\n",
    "num = 7\n",
    "truenum = 0\n",
    "for i in range(1):\n",
    "#图片标签\n",
    "    i=7\n",
    "    real = test_labels[i]\n",
    "    input = tf.convert_to_tensor(test_images[i].reshape(-1,28,28,1),dtype=\"int32\")\n",
    "    cov28_28_5_5_6 = tf.convert_to_tensor((weights[0].numpy()*255).astype(\"int32\"))\n",
    "    cnn1 = tf.nn.conv2d(input,cov28_28_5_5_6,strides = [1,1,1,1], padding = 'VALID')  + (weights[1]*255*255).numpy().astype(\"int32\")\n",
    "    #print((weights[1]*255*255).numpy().astype(\"int32\"))\n",
    "    #print(cnn1[0,:,:,0])\n",
    "    signCnn1 = simpletanh(cnn1)\n",
    "    poolCnn1 = tf.nn.max_pool(signCnn1,[1,2,2,1],[1,2,2,1],padding='VALID')\n",
    "    #print(poolCnn1)\n",
    "    cov12_12_5_5_6 = tf.convert_to_tensor((weights[2].numpy()*255).astype(\"int32\"))\n",
    "    cnn2 = tf.nn.conv2d(poolCnn1,cov12_12_5_5_6,strides = [1,1,1,1], padding = 'VALID')  + (weights[3]*255*255).numpy().astype(\"int32\")\n",
    "    #print((weights[3]*255*255).numpy().astype(\"int32\"))\n",
    "    signCnn2 = simpletanh(cnn2)\n",
    "    #print(signCnn2)\n",
    "    print(signCnn2.shape)\n",
    "    poolCnn2 = tf.nn.max_pool(signCnn2,[1,2,2,1],[1,2,2,1],padding='VALID')\n",
    "    poolCnn2 = tf.reshape(poolCnn2,shape=[1,-1])\n",
    "    print(poolCnn2)\n",
    "    tmp = tf.matmul(poolCnn2, tf.convert_to_tensor((weights[4]*255).numpy().astype(\"int32\"))) + (weights[5]*255*255).numpy().astype(\"int32\").reshape(1,-1)\n",
    "    #print(tf.convert_to_tensor((weights[4]*255).numpy().astype(\"int32\")))\n",
    "    #print((weights[5]*255).numpy().astype(\"int32\").reshape(1,-1))\n",
    "\n",
    "    fn1 = simpletanh(tmp)\n",
    "    print(fn1)\n",
    "    print(fn1.shape)\n",
    "    tmp = tf.matmul(fn1, tf.convert_to_tensor((weights[6]*255).numpy().astype(\"int32\"))) + (weights[7]*255*255).numpy().astype(\"int32\").reshape(1,-1)\n",
    "    fn2 = simpletanh(tmp)\n",
    "    #print(fn2.shape)\n",
    "    tmp = tf.matmul(fn2, tf.convert_to_tensor((weights[8]*255).numpy().astype(\"int32\"))) + (weights[9]*255*255).numpy().astype(\"int32\").reshape(1,-1)\n",
    "    print(tmp)\n",
    "\n",
    "    #print(tmp.shape)\n",
    "    result = tf.argmax(tmp,1).numpy()[0]\n",
    "    print(real,result)\n",
    "    if(real == result):\n",
    "        truenum = truenum + 1\n",
    "    print(truenum/1000.0,end = '\\r',flush=True)\n",
    "    "
   ]
  },
  {
   "cell_type": "code",
   "execution_count": 9,
   "metadata": {},
   "outputs": [],
   "source": [
    "np.savez(\"weights.npz\",cov1 = (weights[0].numpy()*255).astype(\"int32\"),\n",
    "         cov1_b = (weights[1].numpy()*255*255).astype(\"int32\"),\n",
    "         cov2 = (weights[2].numpy()*255).astype(\"int32\"),\n",
    "         cov2_b = (weights[3].numpy()*255*255).astype(\"int32\"),\n",
    "         fn1 = (weights[4].numpy()*255).astype(\"int32\"),\n",
    "         fn1_b = (weights[5].numpy()*255*255).astype(\"int32\"),\n",
    "         fn2 = (weights[6].numpy()*255).astype(\"int32\"),\n",
    "         fn2_b = (weights[7].numpy()*255*255).astype(\"int32\"),\n",
    "         fn3 = (weights[8].numpy()*255).astype(\"int32\"),\n",
    "         fn3_b = (weights[9].numpy()*255*255).astype(\"int32\"))"
   ]
  },
  {
   "cell_type": "code",
   "execution_count": 74,
   "metadata": {},
   "outputs": [],
   "source": [
    "a = np.load(\"weights.npz\")"
   ]
  },
  {
   "cell_type": "code",
   "execution_count": 75,
   "metadata": {},
   "outputs": [
    {
     "name": "stdout",
     "output_type": "stream",
     "text": [
      "cov1\n",
      "cov1_b\n",
      "cov2\n",
      "cov2_b\n",
      "fn1\n",
      "fn1_b\n",
      "fn2\n",
      "fn2_b\n",
      "fn3\n",
      "fn3_b\n"
     ]
    }
   ],
   "source": [
    "w = []\n",
    "for v in a:\n",
    "    print(v)\n",
    "    w.append(a[v].reshape(-1))\n",
    "b = np.concatenate(w,0)"
   ]
  },
  {
   "cell_type": "code",
   "execution_count": 76,
   "metadata": {},
   "outputs": [],
   "source": [
    "np.savetxt(\"weight.txt\",b,fmt =\"%d\",delimiter = \",\")"
   ]
  },
  {
   "cell_type": "code",
   "execution_count": 5,
   "metadata": {},
   "outputs": [
    {
     "name": "stdout",
     "output_type": "stream",
     "text": [
      "[  0   0   0   0   0   0   0   0   0   0   0   0   0   0   0   0   0   0\n",
      "   0   0   0   0   0   0   0   0   0   0   0   0   0   0   0   0   0   0\n",
      "   0   0   0   0   0   0   0   0   0   0   0   0   0   0   0   0   0   0\n",
      "   0   0   0   0   0   0   0   0   0   0   0   0   0   0   0   0   0   0\n",
      "   0   0   0   0   0   0   0   0   0   0   0   0   0   0   0   0   0   0\n",
      "   0   0   0   0   0   0   0   0   0   0   0   0   0   0   0   0   0   0\n",
      "   0   0   0   0   0   0   0   0   0   0   0   0   0   0   0   0   0   0\n",
      "   0   0   0   0   0   0   0   0   0   0   0   0   0   0   0   0   0   0\n",
      "   0   0   0   0   0   0   0   0   0   0   0   0   0   0   0   0   0   0\n",
      "   0   0   0   0   0   0   0   0   0   0   0   0   0   0   0   0   0   0\n",
      "   0   0   0   0   0   0   0   0   0   0   0   0   0   0   0   0   0   0\n",
      "   0   0   0   0  84 185 159 151  60  36   0   0   0   0   0   0   0   0\n",
      "   0   0   0   0   0   0   0   0   0   0   0   0   0   0 222 254 254 254\n",
      " 254 241 198 198 198 198 198 198 198 198 170  52   0   0   0   0   0   0\n",
      "   0   0   0   0   0   0  67 114  72 114 163 227 254 225 254 254 254 250\n",
      " 229 254 254 140   0   0   0   0   0   0   0   0   0   0   0   0   0   0\n",
      "   0   0   0  17  66  14  67  67  67  59  21 236 254 106   0   0   0   0\n",
      "   0   0   0   0   0   0   0   0   0   0   0   0   0   0   0   0   0   0\n",
      "   0   0  83 253 209  18   0   0   0   0   0   0   0   0   0   0   0   0\n",
      "   0   0   0   0   0   0   0   0   0   0   0  22 233 255  83   0   0   0\n",
      "   0   0   0   0   0   0   0   0   0   0   0   0   0   0   0   0   0   0\n",
      "   0   0   0 129 254 238  44   0   0   0   0   0   0   0   0   0   0   0\n",
      "   0   0   0   0   0   0   0   0   0   0   0   0  59 249 254  62   0   0\n",
      "   0   0   0   0   0   0   0   0   0   0   0   0   0   0   0   0   0   0\n",
      "   0   0   0   0 133 254 187   5   0   0   0   0   0   0   0   0   0   0\n",
      "   0   0   0   0   0   0   0   0   0   0   0   0   0   9 205 248  58   0\n",
      "   0   0   0   0   0   0   0   0   0   0   0   0   0   0   0   0   0   0\n",
      "   0   0   0   0   0 126 254 182   0   0   0   0   0   0   0   0   0   0\n",
      "   0   0   0   0   0   0   0   0   0   0   0   0   0   0  75 251 240  57\n",
      "   0   0   0   0   0   0   0   0   0   0   0   0   0   0   0   0   0   0\n",
      "   0   0   0   0   0  19 221 254 166   0   0   0   0   0   0   0   0   0\n",
      "   0   0   0   0   0   0   0   0   0   0   0   0   0   0   3 203 254 219\n",
      "  35   0   0   0   0   0   0   0   0   0   0   0   0   0   0   0   0   0\n",
      "   0   0   0   0   0   0  38 254 254  77   0   0   0   0   0   0   0   0\n",
      "   0   0   0   0   0   0   0   0   0   0   0   0   0   0   0  31 224 254\n",
      " 115   1   0   0   0   0   0   0   0   0   0   0   0   0   0   0   0   0\n",
      "   0   0   0   0   0   0   0 133 254 254  52   0   0   0   0   0   0   0\n",
      "   0   0   0   0   0   0   0   0   0   0   0   0   0   0   0   0  61 242\n",
      " 254 254  52   0   0   0   0   0   0   0   0   0   0   0   0   0   0   0\n",
      "   0   0   0   0   0   0   0   0 121 254 254 219  40   0   0   0   0   0\n",
      "   0   0   0   0   0   0   0   0   0   0   0   0   0   0   0   0   0   0\n",
      " 121 254 207  18   0   0   0   0   0   0   0   0   0   0   0   0   0   0\n",
      "   0   0   0   0   0   0   0   0   0   0   0   0   0   0   0   0   0   0\n",
      "   0   0   0   0   0   0   0   0   0   0]\n"
     ]
    }
   ],
   "source": [
    "import numpy as np\n",
    "#np.savetxt(\"image.txt\",(test_images).astype(\"int32\").reshape(-1),fmt =\"%d\",delimiter = \",\")\n",
    "np.savetxt(\"label.txt\",(test_labels).astype(\"int32\").reshape(-1),fmt =\"%d\",delimiter = \",\")\n",
    "print((test_images[0]).astype(\"int32\").reshape(-1))"
   ]
  },
  {
   "cell_type": "code",
   "execution_count": 82,
   "metadata": {},
   "outputs": [
    {
     "name": "stdout",
     "output_type": "stream",
     "text": [
      "27\n"
     ]
    }
   ],
   "source": [
    "print((b.size-399)%400)"
   ]
  },
  {
   "cell_type": "code",
   "execution_count": 80,
   "metadata": {},
   "outputs": [
    {
     "name": "stdout",
     "output_type": "stream",
     "text": [
      "[   0   -6   11    5   13  -27   30  -26  -71  -45  -43   -1   -9   -4\n",
      "  -12  -37   -9   19  -44   17   15   57  -48  -44  -74   23    0    6\n",
      "  -34   36   17  -33    9  -29  -17  -16   55    9  -43  -30    7  -91\n",
      " -130  -58   93   45   37  -28   48   26   43   23   58   27  -11   53\n",
      "   10  -44  -14   69   36   27   12   31   18   52   45   28   12   74\n",
      "    5   60  -39   72  -20   -8    7   40  -33   14   78   -9   49  -33\n",
      "   73  -43  -11   -2   36  -69 -106  -55   38    4   -5   -7  -19  -23\n",
      "  -53   18   23   -1   15  -72    6  -61  -88   -3   49  -10   51  -27\n",
      "   49   22   -9  -24   53   76  -26   51  -31   59  -41   15   -2    3\n",
      "  -16  -54   48   81  -79 -101  111  -38   -3    5  -10  -28   18  -34\n",
      "   53   51  105  -35  -78    7   64   -4   26   34    2  -41   26  -40\n",
      "  -47   78  -15   49  -12   57   -8   77  -10   -9   19   73  -40    9\n",
      "   28   69  -31   39  -15   88  -77    7   92  112    8  -47   93   -6\n",
      "  -84   -2  -16  -36   28  -25  -34  -14   39    1  -37  -52    3  -51\n",
      "   11   -5    8  -47   30  -87  -43   31   13  -71   63  -61   25   27\n",
      "   10  -49   24   26  -43    1  -36   54  -70  -22   13  -36  -59  -38\n",
      "   64   73  -76   28  102  -72   46   75   50   90  119   16    7   10\n",
      "  -72  -22   49    4  -10   19   38  -37   56   39   27   21  -19  -37\n",
      "   40    8  125  -42  -16   41  -64   19   35  -17   32    0   21   39\n",
      "  105   35  -28  -63  -21  -33  -69    6   70   23   28   13  -43    9\n",
      "   25    1   65   -6  -46  -47  -47   26   27  -25  -24  -20  -21  -22\n",
      "  -35   62   44  -43  -40  -30  -50  -24   26   35 -118  -13  -32   13\n",
      "  -15  -27   84   75   45  -16   67   35   -6    1  -23    5  -75  -46\n",
      "  -48  -15  -39    3  -71  -63   82  -51  -53   -2  -15   10  -22  -31\n",
      "  -39  -16  -11    7   41  -44   41   38  -59   33  -42  -16   74  -14\n",
      "   77   45   -4   73  -73   15  104  -33   -8  -83    8   68   19   89\n",
      "   63  -70  -46   48   74    2   68   30   22   13    5   17    4   36\n",
      "  -11  -67  -25  -56  -48  -63   -5   19   52  -48  -25  -31  -24   39\n",
      "    7   14  -76  -69  -27   -4   73   44]\n"
     ]
    }
   ],
   "source": [
    "print(b[399:399+400])"
   ]
  },
  {
   "cell_type": "code",
   "execution_count": 41,
   "metadata": {},
   "outputs": [
    {
     "data": {
      "text/plain": [
       "-3897"
      ]
     },
     "execution_count": 41,
     "metadata": {},
     "output_type": "execute_result"
    }
   ],
   "source": [
    "a = np.array([-147 , -68 ,-121  ,-59 , -30,   42])\n",
    "b = np.array([40 , -29  , 20  ,-41  ,-13,   -9])\n",
    "c = a * b\n",
    "np.sum(c)"
   ]
  },
  {
   "cell_type": "code",
   "execution_count": null,
   "metadata": {},
   "outputs": [],
   "source": []
  }
 ],
 "metadata": {
  "kernelspec": {
   "display_name": "Python 3",
   "language": "python",
   "name": "python3"
  },
  "language_info": {
   "codemirror_mode": {
    "name": "ipython",
    "version": 3
   },
   "file_extension": ".py",
   "mimetype": "text/x-python",
   "name": "python",
   "nbconvert_exporter": "python",
   "pygments_lexer": "ipython3",
   "version": "3.6.6"
  }
 },
 "nbformat": 4,
 "nbformat_minor": 4
}
